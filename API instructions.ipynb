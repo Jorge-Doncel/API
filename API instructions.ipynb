{
 "cells": [
  {
   "cell_type": "code",
   "execution_count": 1,
   "metadata": {},
   "outputs": [],
   "source": [
    "import requests"
   ]
  },
  {
   "cell_type": "markdown",
   "metadata": {},
   "source": [
    "## Add new user"
   ]
  },
  {
   "cell_type": "markdown",
   "metadata": {},
   "source": [
    "Write the name of the user"
   ]
  },
  {
   "cell_type": "code",
   "execution_count": 2,
   "metadata": {},
   "outputs": [
    {
     "name": "stdout",
     "output_type": "stream",
     "text": [
      "<Response [200]>\n"
     ]
    },
    {
     "data": {
      "text/plain": [
       "'New user create! user_name:Kahwi, user_id: 5f0ca1374c36241d385b8956 '"
      ]
     },
     "execution_count": 2,
     "metadata": {},
     "output_type": "execute_result"
    }
   ],
   "source": [
    "#http://localhost:3000/chat/create/<name>\n",
    "name=\"Kahwi\"\n",
    "url = f'http://localhost:3000/chat/create/{name}'\n",
    "res = requests.get(url)\n",
    "print(res)\n",
    "res.json()"
   ]
  },
  {
   "cell_type": "markdown",
   "metadata": {},
   "source": [
    "###### Add multiple user at the same time"
   ]
  },
  {
   "cell_type": "code",
   "execution_count": 3,
   "metadata": {},
   "outputs": [],
   "source": [
    "new_users= [\"Anteto\", \"Navarro\", \"Llull\"]"
   ]
  },
  {
   "cell_type": "code",
   "execution_count": 4,
   "metadata": {},
   "outputs": [
    {
     "name": "stdout",
     "output_type": "stream",
     "text": [
      "<Response [200]>\n"
     ]
    },
    {
     "data": {
      "text/plain": [
       "'New user create! user_name:Llull, user_id: 5f0ca14d4c36241d385b8959 '"
      ]
     },
     "execution_count": 4,
     "metadata": {},
     "output_type": "execute_result"
    }
   ],
   "source": [
    "for x in new_users:\n",
    "    res = requests.get(f'http://localhost:3000/chat/create/{x}')\n",
    "print(res)\n",
    "res.json()"
   ]
  },
  {
   "cell_type": "markdown",
   "metadata": {},
   "source": [
    "## Create conversation with users"
   ]
  },
  {
   "cell_type": "markdown",
   "metadata": {},
   "source": [
    "Add participants as array and conversation name"
   ]
  },
  {
   "cell_type": "code",
   "execution_count": 5,
   "metadata": {},
   "outputs": [],
   "source": [
    "participants= [\"Anteto\", \"Navarro\", \"Llull\"]\n",
    "dicti={\"participants\":participants, \"chat_name\": \"Basket\" }"
   ]
  },
  {
   "cell_type": "code",
   "execution_count": 6,
   "metadata": {},
   "outputs": [
    {
     "name": "stdout",
     "output_type": "stream",
     "text": [
      "<Response [200]>\n"
     ]
    },
    {
     "data": {
      "text/plain": [
       "'New chat create! Conversation id: 5f0ca16f4c36241d385b895a'"
      ]
     },
     "execution_count": 6,
     "metadata": {},
     "output_type": "execute_result"
    }
   ],
   "source": [
    "#http://localhost:3000/chat/create\n",
    "\n",
    "url = \"http://localhost:3000/chat/create\"\n",
    "res = requests.get(url, params= dicti)\n",
    "print(res)\n",
    "res.json()"
   ]
  },
  {
   "cell_type": "markdown",
   "metadata": {},
   "source": [
    "## Add user to a conversation"
   ]
  },
  {
   "cell_type": "markdown",
   "metadata": {},
   "source": [
    "Write conversation id and user name. Be sure the user is not alredy in the conversation"
   ]
  },
  {
   "cell_type": "code",
   "execution_count": 10,
   "metadata": {
    "scrolled": true
   },
   "outputs": [
    {
     "name": "stdout",
     "output_type": "stream",
     "text": [
      "<Response [200]>\n"
     ]
    },
    {
     "data": {
      "text/plain": [
       "'New user added to a conversation! user_id: Gasol, conversation_id: 5f0ca16f4c36241d385b895a '"
      ]
     },
     "execution_count": 10,
     "metadata": {},
     "output_type": "execute_result"
    }
   ],
   "source": [
    "#http://localhost:3000/chat/<conversation_id>/adduser\n",
    "\n",
    "conversation_id= \"5f0ca16f4c36241d385b895a\"\n",
    "user_name=\"Gasol\"\n",
    "\n",
    "url = f\"http://localhost:3000/chat/{conversation_id}/adduser\"\n",
    "params= f'?user_name={user_name}'\n",
    "res = requests.get(url+params)\n",
    "\n",
    "print(res)\n",
    "res.json()"
   ]
  },
  {
   "cell_type": "markdown",
   "metadata": {},
   "source": [
    "###### Add multiple users to a conversation"
   ]
  },
  {
   "cell_type": "code",
   "execution_count": 15,
   "metadata": {},
   "outputs": [],
   "source": [
    "new_users=[\"Rudy\", \"Artest\"]\n",
    "conversation_id= \"5f0ca16f4c36241d385b895a\""
   ]
  },
  {
   "cell_type": "code",
   "execution_count": 16,
   "metadata": {},
   "outputs": [
    {
     "name": "stdout",
     "output_type": "stream",
     "text": [
      "<Response [200]>\n"
     ]
    },
    {
     "data": {
      "text/plain": [
       "'New user added to a conversation! user_id: arturo, conversation_id: 5f0c18d1a17fe0663b850514 '"
      ]
     },
     "execution_count": 16,
     "metadata": {},
     "output_type": "execute_result"
    }
   ],
   "source": [
    "for i in new_users:\n",
    "    res = requests.get(f'http://localhost:3000/chat/{conversation_id}/adduser?user_name={i}')\n",
    "print(res)\n",
    "res.json()"
   ]
  },
  {
   "cell_type": "markdown",
   "metadata": {},
   "source": [
    "## Add message to a conversation"
   ]
  },
  {
   "cell_type": "markdown",
   "metadata": {},
   "source": [
    "Write conversation id, user name and message. Be sure user is in that conversation."
   ]
  },
  {
   "cell_type": "code",
   "execution_count": 11,
   "metadata": {
    "scrolled": true
   },
   "outputs": [
    {
     "name": "stdout",
     "output_type": "stream",
     "text": [
      "<Response [200]>\n"
     ]
    },
    {
     "data": {
      "text/plain": [
       "'New Message added. Id message: 5f0ca1f84c36241d385b895b'"
      ]
     },
     "execution_count": 11,
     "metadata": {},
     "output_type": "execute_result"
    }
   ],
   "source": [
    "#http://localhost:3000/chat/<conversation_id>/addmessage\n",
    "\n",
    "conversation_id= \"5f0ca16f4c36241d385b895a\"\n",
    "user_name=\"Gasol\"\n",
    "mensaje=\"I will win the NBA next season\"\n",
    "\n",
    "url = f\"http://localhost:3000/chat/{conversation_id}/addmessage\"\n",
    "message={\"conversation_id\":f'{conversation_id}', \"user_name\":f'{user_name}' , \"message\":f'{mensaje}'}\n",
    "res = requests.post(url, data=message)\n",
    "\n",
    "print(res)\n",
    "res.json()"
   ]
  },
  {
   "cell_type": "markdown",
   "metadata": {},
   "source": [
    "###### Add multiple messages "
   ]
  },
  {
   "cell_type": "code",
   "execution_count": 12,
   "metadata": {},
   "outputs": [],
   "source": [
    "conversation_id= \"5f0ca16f4c36241d385b895a\"\n",
    "user_id=\"Llull\"\n",
    "mensaje=[\"I want to play in the NBA\", \"I will go to the Olimpic Games\"]"
   ]
  },
  {
   "cell_type": "code",
   "execution_count": 13,
   "metadata": {},
   "outputs": [
    {
     "name": "stdout",
     "output_type": "stream",
     "text": [
      "<Response [200]>\n"
     ]
    },
    {
     "data": {
      "text/plain": [
       "'New Message added. Id message: 5f0ca2974c36241d385b895d'"
      ]
     },
     "execution_count": 13,
     "metadata": {},
     "output_type": "execute_result"
    }
   ],
   "source": [
    "url = f\"http://localhost:3000/chat/{conversation_id}/addmessage\"\n",
    "for x in mensaje:\n",
    "    message={\"conversation_id\":f'{conversation_id}', \"user_name\":f'{user_id}' , \"message\":f'{x}'}\n",
    "    res = requests.post(url, data=message)\n",
    "print(res)\n",
    "res.json()"
   ]
  },
  {
   "cell_type": "markdown",
   "metadata": {},
   "source": [
    "## Get all message in a conversation"
   ]
  },
  {
   "cell_type": "code",
   "execution_count": 14,
   "metadata": {},
   "outputs": [
    {
     "name": "stdout",
     "output_type": "stream",
     "text": [
      "<Response [200]>\n"
     ]
    },
    {
     "data": {
      "text/plain": [
       "[{'user_id': 'Gasol', 'message': 'I will win the NBA next season'},\n",
       " {'user_id': 'Llull', 'message': 'I want to play in the NBA'},\n",
       " {'user_id': 'Llull', 'message': 'I will go to the Olimpic Games'}]"
      ]
     },
     "execution_count": 14,
     "metadata": {},
     "output_type": "execute_result"
    }
   ],
   "source": [
    "#http://localhost:3000/chat/<conversation_id>/list\n",
    "conversation_id= \"5f0ca16f4c36241d385b895a\"\n",
    "url = f\"http://localhost:3000/chat/{conversation_id}/list\"\n",
    "res = requests.get(url)\n",
    "print(res)\n",
    "res.json()"
   ]
  }
 ],
 "metadata": {
  "kernelspec": {
   "display_name": "Python 3",
   "language": "python",
   "name": "python3"
  },
  "language_info": {
   "codemirror_mode": {
    "name": "ipython",
    "version": 3
   },
   "file_extension": ".py",
   "mimetype": "text/x-python",
   "name": "python",
   "nbconvert_exporter": "python",
   "pygments_lexer": "ipython3",
   "version": "3.6.9"
  }
 },
 "nbformat": 4,
 "nbformat_minor": 4
}
