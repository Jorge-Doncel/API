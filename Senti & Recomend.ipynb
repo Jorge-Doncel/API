{
 "cells": [
  {
   "cell_type": "code",
   "execution_count": 37,
   "metadata": {},
   "outputs": [
    {
     "name": "stderr",
     "output_type": "stream",
     "text": [
      "[nltk_data] Downloading package vader_lexicon to\n",
      "[nltk_data]     /home/jorge/nltk_data...\n",
      "[nltk_data]   Package vader_lexicon is already up-to-date!\n"
     ]
    }
   ],
   "source": [
    "import requests\n",
    "import pandas as pd\n",
    "from funSentiments import *\n",
    "import nltk\n",
    "from nltk.sentiment.vader import SentimentIntensityAnalyzer\n",
    "nltk.download('vader_lexicon')\n",
    "sia = SentimentIntensityAnalyzer()"
   ]
  },
  {
   "cell_type": "code",
   "execution_count": 2,
   "metadata": {},
   "outputs": [],
   "source": [
    "df = pd.read_csv('input/All-seasons.csv')"
   ]
  },
  {
   "cell_type": "code",
   "execution_count": 3,
   "metadata": {},
   "outputs": [
    {
     "data": {
      "text/html": [
       "<div>\n",
       "<style scoped>\n",
       "    .dataframe tbody tr th:only-of-type {\n",
       "        vertical-align: middle;\n",
       "    }\n",
       "\n",
       "    .dataframe tbody tr th {\n",
       "        vertical-align: top;\n",
       "    }\n",
       "\n",
       "    .dataframe thead th {\n",
       "        text-align: right;\n",
       "    }\n",
       "</style>\n",
       "<table border=\"1\" class=\"dataframe\">\n",
       "  <thead>\n",
       "    <tr style=\"text-align: right;\">\n",
       "      <th></th>\n",
       "      <th>Season</th>\n",
       "      <th>Episode</th>\n",
       "      <th>Character</th>\n",
       "      <th>Line</th>\n",
       "    </tr>\n",
       "  </thead>\n",
       "  <tbody>\n",
       "    <tr>\n",
       "      <th>0</th>\n",
       "      <td>10</td>\n",
       "      <td>1</td>\n",
       "      <td>Stan</td>\n",
       "      <td>You guys, you guys! Chef is going away. \\n</td>\n",
       "    </tr>\n",
       "    <tr>\n",
       "      <th>1</th>\n",
       "      <td>10</td>\n",
       "      <td>1</td>\n",
       "      <td>Kyle</td>\n",
       "      <td>Going away? For how long?\\n</td>\n",
       "    </tr>\n",
       "    <tr>\n",
       "      <th>2</th>\n",
       "      <td>10</td>\n",
       "      <td>1</td>\n",
       "      <td>Stan</td>\n",
       "      <td>Forever.\\n</td>\n",
       "    </tr>\n",
       "    <tr>\n",
       "      <th>3</th>\n",
       "      <td>10</td>\n",
       "      <td>1</td>\n",
       "      <td>Chef</td>\n",
       "      <td>I'm sorry boys.\\n</td>\n",
       "    </tr>\n",
       "    <tr>\n",
       "      <th>4</th>\n",
       "      <td>10</td>\n",
       "      <td>1</td>\n",
       "      <td>Stan</td>\n",
       "      <td>Chef said he's been bored, so he joining a gro...</td>\n",
       "    </tr>\n",
       "  </tbody>\n",
       "</table>\n",
       "</div>"
      ],
      "text/plain": [
       "  Season Episode Character                                               Line\n",
       "0     10       1      Stan         You guys, you guys! Chef is going away. \\n\n",
       "1     10       1      Kyle                        Going away? For how long?\\n\n",
       "2     10       1      Stan                                         Forever.\\n\n",
       "3     10       1      Chef                                  I'm sorry boys.\\n\n",
       "4     10       1      Stan  Chef said he's been bored, so he joining a gro..."
      ]
     },
     "execution_count": 3,
     "metadata": {},
     "output_type": "execute_result"
    }
   ],
   "source": [
    "df.head()"
   ]
  },
  {
   "cell_type": "markdown",
   "metadata": {},
   "source": [
    "## Get episode of a season you want"
   ]
  },
  {
   "cell_type": "code",
   "execution_count": 18,
   "metadata": {},
   "outputs": [],
   "source": [
    "df_epi2= episode(3,2)"
   ]
  },
  {
   "cell_type": "code",
   "execution_count": 25,
   "metadata": {},
   "outputs": [],
   "source": [
    "df_epi14= episode(7,14)"
   ]
  },
  {
   "cell_type": "code",
   "execution_count": 26,
   "metadata": {},
   "outputs": [
    {
     "data": {
      "text/html": [
       "<div>\n",
       "<style scoped>\n",
       "    .dataframe tbody tr th:only-of-type {\n",
       "        vertical-align: middle;\n",
       "    }\n",
       "\n",
       "    .dataframe tbody tr th {\n",
       "        vertical-align: top;\n",
       "    }\n",
       "\n",
       "    .dataframe thead th {\n",
       "        text-align: right;\n",
       "    }\n",
       "</style>\n",
       "<table border=\"1\" class=\"dataframe\">\n",
       "  <thead>\n",
       "    <tr style=\"text-align: right;\">\n",
       "      <th></th>\n",
       "      <th>Character</th>\n",
       "      <th>Line</th>\n",
       "    </tr>\n",
       "  </thead>\n",
       "  <tbody>\n",
       "    <tr>\n",
       "      <th>63179</th>\n",
       "      <td>Stan</td>\n",
       "      <td>All right, you guys, it's first down. I'll hik...</td>\n",
       "    </tr>\n",
       "    <tr>\n",
       "      <th>63180</th>\n",
       "      <td>Cartman</td>\n",
       "      <td>Right. What are we playing again?\\n</td>\n",
       "    </tr>\n",
       "    <tr>\n",
       "      <th>63181</th>\n",
       "      <td>Stan</td>\n",
       "      <td>Football.\\n</td>\n",
       "    </tr>\n",
       "    <tr>\n",
       "      <th>63182</th>\n",
       "      <td>Cartman</td>\n",
       "      <td>Got it. \\n</td>\n",
       "    </tr>\n",
       "    <tr>\n",
       "      <th>63183</th>\n",
       "      <td>Stan</td>\n",
       "      <td>Okay. 23!  Blue, 23! Set hut! Set hut! \\n</td>\n",
       "    </tr>\n",
       "  </tbody>\n",
       "</table>\n",
       "</div>"
      ],
      "text/plain": [
       "      Character                                               Line\n",
       "63179      Stan  All right, you guys, it's first down. I'll hik...\n",
       "63180   Cartman                Right. What are we playing again?\\n\n",
       "63181      Stan                                        Football.\\n\n",
       "63182   Cartman                                         Got it. \\n\n",
       "63183      Stan          Okay. 23!  Blue, 23! Set hut! Set hut! \\n"
      ]
     },
     "execution_count": 26,
     "metadata": {},
     "output_type": "execute_result"
    }
   ],
   "source": [
    "df_epi14.head()"
   ]
  },
  {
   "cell_type": "markdown",
   "metadata": {},
   "source": [
    "## Add all Characters in Database"
   ]
  },
  {
   "cell_type": "markdown",
   "metadata": {},
   "source": [
    "It will add just new characters"
   ]
  },
  {
   "cell_type": "code",
   "execution_count": 27,
   "metadata": {},
   "outputs": [],
   "source": [
    "cha_epi2 = get_character(df_epi14)"
   ]
  },
  {
   "cell_type": "code",
   "execution_count": 28,
   "metadata": {},
   "outputs": [],
   "source": [
    "cha_epi14= get_character(df_epi14)"
   ]
  },
  {
   "cell_type": "code",
   "execution_count": 23,
   "metadata": {},
   "outputs": [
    {
     "name": "stdout",
     "output_type": "stream",
     "text": [
      "<Response [200]>\n"
     ]
    },
    {
     "data": {
      "text/plain": [
       "'New user create! user_name:The Three Spirits, user_id: 5f0ca7984c36241d385b8990 '"
      ]
     },
     "execution_count": 23,
     "metadata": {},
     "output_type": "execute_result"
    }
   ],
   "source": [
    "for x in cha_epi2:\n",
    "    res = requests.get(f'http://localhost:3000/chat/create/{x}')\n",
    "print(res)\n",
    "res.json()"
   ]
  },
  {
   "cell_type": "code",
   "execution_count": 29,
   "metadata": {},
   "outputs": [
    {
     "name": "stdout",
     "output_type": "stream",
     "text": [
      "<Response [200]>\n"
     ]
    },
    {
     "data": {
      "text/plain": [
       "'New user create! user_name:Goth Voice, user_id: 5f0ca7b84c36241d385b89a9 '"
      ]
     },
     "execution_count": 29,
     "metadata": {},
     "output_type": "execute_result"
    }
   ],
   "source": [
    "for x in cha_epi14:\n",
    "    res = requests.get(f'http://localhost:3000/chat/create/{x}')\n",
    "print(res)\n",
    "res.json()"
   ]
  },
  {
   "cell_type": "markdown",
   "metadata": {},
   "source": [
    "## Add episode to database"
   ]
  },
  {
   "cell_type": "code",
   "execution_count": 30,
   "metadata": {},
   "outputs": [],
   "source": [
    "participants= cha_epi2\n",
    "dicti={\"participants\":participants, \"chat_name\": \"Season 3 Episode 2\" }"
   ]
  },
  {
   "cell_type": "code",
   "execution_count": 31,
   "metadata": {},
   "outputs": [
    {
     "name": "stdout",
     "output_type": "stream",
     "text": [
      "<Response [200]>\n"
     ]
    },
    {
     "data": {
      "text/plain": [
       "'New chat create! Conversation id: 5f0ca8cd4c36241d385b89aa'"
      ]
     },
     "execution_count": 31,
     "metadata": {},
     "output_type": "execute_result"
    }
   ],
   "source": [
    "#http://localhost:3000/chat/create\n",
    "\n",
    "url = \"http://localhost:3000/chat/create\"\n",
    "res = requests.get(url, params= dicti)\n",
    "print(res)\n",
    "res.json()"
   ]
  },
  {
   "cell_type": "code",
   "execution_count": 32,
   "metadata": {},
   "outputs": [],
   "source": [
    "participants= cha_epi14\n",
    "dicti={\"participants\":participants, \"chat_name\": \"Season 7 Episode 14\" }"
   ]
  },
  {
   "cell_type": "code",
   "execution_count": 33,
   "metadata": {},
   "outputs": [
    {
     "name": "stdout",
     "output_type": "stream",
     "text": [
      "<Response [200]>\n"
     ]
    },
    {
     "data": {
      "text/plain": [
       "'New chat create! Conversation id: 5f0ca8de4c36241d385b89ab'"
      ]
     },
     "execution_count": 33,
     "metadata": {},
     "output_type": "execute_result"
    }
   ],
   "source": [
    "#http://localhost:3000/chat/create\n",
    "\n",
    "url = \"http://localhost:3000/chat/create\"\n",
    "res = requests.get(url, params= dicti)\n",
    "print(res)\n",
    "res.json()"
   ]
  },
  {
   "cell_type": "markdown",
   "metadata": {},
   "source": [
    "## Add all dialogues of the episode"
   ]
  },
  {
   "cell_type": "code",
   "execution_count": 35,
   "metadata": {},
   "outputs": [
    {
     "name": "stdout",
     "output_type": "stream",
     "text": [
      "<Response [200]>\n"
     ]
    },
    {
     "data": {
      "text/plain": [
       "'New Message added. Id message: 5f0ca98a4c36241d385b8a58'"
      ]
     },
     "execution_count": 35,
     "metadata": {},
     "output_type": "execute_result"
    }
   ],
   "source": [
    "conversation_id= \"5f0ca8cd4c36241d385b89aa\"\n",
    "url = f\"http://localhost:3000/chat/{conversation_id}/addmessage\"\n",
    "\n",
    "for index, row in df_epi2.iterrows():\n",
    "    message={\"conversation_id\":f'{conversation_id}', \"user_name\":f'{row[\"Character\"]}' , \"message\":f'{row[\"Line\"]}'}\n",
    "    res = requests.post(url, data=message)\n",
    "    \n",
    "print(res)\n",
    "res.json()"
   ]
  },
  {
   "cell_type": "code",
   "execution_count": 36,
   "metadata": {},
   "outputs": [
    {
     "name": "stdout",
     "output_type": "stream",
     "text": [
      "<Response [200]>\n"
     ]
    },
    {
     "data": {
      "text/plain": [
       "'New Message added. Id message: 5f0ca9b34c36241d385b8b78'"
      ]
     },
     "execution_count": 36,
     "metadata": {},
     "output_type": "execute_result"
    }
   ],
   "source": [
    "conversation_id= \"5f0ca8de4c36241d385b89ab\"\n",
    "url = f\"http://localhost:3000/chat/{conversation_id}/addmessage\"\n",
    "\n",
    "for index, row in df_epi14.iterrows():\n",
    "    message={\"conversation_id\":f'{conversation_id}', \"user_name\":f'{row[\"Character\"]}' , \"message\":f'{row[\"Line\"]}'}\n",
    "    res = requests.post(url, data=message)\n",
    "    \n",
    "print(res)\n",
    "res.json()"
   ]
  },
  {
   "cell_type": "markdown",
   "metadata": {},
   "source": [
    "# Sentiments"
   ]
  },
  {
   "cell_type": "markdown",
   "metadata": {},
   "source": [
    "## Analize sentiments by all character and message in an episode"
   ]
  },
  {
   "cell_type": "code",
   "execution_count": 39,
   "metadata": {},
   "outputs": [
    {
     "name": "stdout",
     "output_type": "stream",
     "text": [
      "<Response [200]>\n"
     ]
    },
    {
     "data": {
      "text/plain": [
       "[{'name': 'Stan',\n",
       "  'message': 'All right, you guys, it\\'s first down. I\\'ll hike the ball on the third \"set hut!\" Kyle and Cartman, go deep post out. Kenny, run a slant down the middle. Butters, be ready for the screen.\\n',\n",
       "  'sentiments': {'neg': 0.0, 'neu': 0.924, 'pos': 0.076, 'compound': 0.4199}},\n",
       " {'name': 'Cartman',\n",
       "  'message': 'Right. What are we playing again?\\n',\n",
       "  'sentiments': {'neg': 0.0, 'neu': 0.735, 'pos': 0.265, 'compound': 0.2023}},\n",
       " {'name': 'Stan',\n",
       "  'message': 'Football.\\n',\n",
       "  'sentiments': {'neg': 0.0, 'neu': 1.0, 'pos': 0.0, 'compound': 0.0}},\n",
       " {'name': 'Cartman',\n",
       "  'message': 'Got it. \\n',\n",
       "  'sentiments': {'neg': 0.0, 'neu': 1.0, 'pos': 0.0, 'compound': 0.0}}]"
      ]
     },
     "execution_count": 39,
     "metadata": {},
     "output_type": "execute_result"
    }
   ],
   "source": [
    "#http://localhost:3000/chat/<conversation_id>/sentiment\n",
    "\n",
    "conversation_id= \"5f0ca8de4c36241d385b89ab\"\n",
    "\n",
    "url = f'http://localhost:3000/chat/{conversation_id}/sentiment'\n",
    "res = requests.get(url)\n",
    "print(res)\n",
    "data=res.json()\n",
    "data[:4]"
   ]
  },
  {
   "cell_type": "markdown",
   "metadata": {},
   "source": [
    "## Analyze sentiments of specific character by messages in an episode"
   ]
  },
  {
   "cell_type": "code",
   "execution_count": 40,
   "metadata": {},
   "outputs": [
    {
     "name": "stdout",
     "output_type": "stream",
     "text": [
      "<Response [200]>\n"
     ]
    },
    {
     "data": {
      "text/plain": [
       "[{'name': 'Cartman',\n",
       "  'message': 'Right. What are we playing again?\\n',\n",
       "  'sentiments': {'neg': 0.0, 'neu': 0.735, 'pos': 0.265, 'compound': 0.2023}},\n",
       " {'name': 'Cartman',\n",
       "  'message': 'Got it. \\n',\n",
       "  'sentiments': {'neg': 0.0, 'neu': 1.0, 'pos': 0.0, 'compound': 0.0}},\n",
       " {'name': 'Cartman',\n",
       "  'message': 'What-ever, Bebe! Like Stan really cares! Just get out of our football game, you stupid skank!\\n',\n",
       "  'sentiments': {'neg': 0.147,\n",
       "   'neu': 0.564,\n",
       "   'pos': 0.289,\n",
       "   'compound': 0.5055}},\n",
       " {'name': 'Cartman',\n",
       "  'message': 'Yeh-heah, right!\\n',\n",
       "  'sentiments': {'neg': 0.0, 'neu': 1.0, 'pos': 0.0, 'compound': 0.0}}]"
      ]
     },
     "execution_count": 40,
     "metadata": {},
     "output_type": "execute_result"
    }
   ],
   "source": [
    "#http://localhost:3000/chat/<conversation_id>/sentiment/<name>\n",
    "\n",
    "conversation_id= \"5f0ca8de4c36241d385b89ab\"\n",
    "character= \"Cartman\"\n",
    "\n",
    "url = f'http://localhost:3000/chat/{conversation_id}/sentiment/{character}'\n",
    "res = requests.get(url)\n",
    "print(res)\n",
    "data= res.json()\n",
    "data[:4]"
   ]
  },
  {
   "cell_type": "markdown",
   "metadata": {},
   "source": [
    "## Analyze total sentiments of a character in an episode"
   ]
  },
  {
   "cell_type": "code",
   "execution_count": 42,
   "metadata": {},
   "outputs": [
    {
     "name": "stdout",
     "output_type": "stream",
     "text": [
      "<Response [200]>\n"
     ]
    },
    {
     "data": {
      "text/plain": [
       "'Cartman has 0.149 of negativity, 0.7246 of neutral and 0.1263 of positivity in this episode'"
      ]
     },
     "execution_count": 42,
     "metadata": {},
     "output_type": "execute_result"
    }
   ],
   "source": [
    "#http://localhost:3000/chat/<conversation_id>/sentiment/<name>/total\n",
    "\n",
    "conversation_id= \"5f0ca8de4c36241d385b89ab\"\n",
    "character= \"Cartman\"\n",
    "\n",
    "url = f'http://localhost:3000/chat/{conversation_id}/sentiment/{character}/total'\n",
    "res = requests.get(url)\n",
    "print(res)\n",
    "res.json()"
   ]
  },
  {
   "cell_type": "markdown",
   "metadata": {},
   "source": [
    "## Analyze total sentiments of a character in all seasons"
   ]
  },
  {
   "cell_type": "code",
   "execution_count": 49,
   "metadata": {},
   "outputs": [
    {
     "name": "stdout",
     "output_type": "stream",
     "text": [
      "<Response [200]>\n"
     ]
    },
    {
     "data": {
      "text/plain": [
       "'Cartman has 0.1519 of negativity, 0.7641 of neutral  in all the episodes'"
      ]
     },
     "execution_count": 49,
     "metadata": {},
     "output_type": "execute_result"
    }
   ],
   "source": [
    "#http://localhost:3000/chat/sentiment/<name>\n",
    "\n",
    "character= \"Cartman\"\n",
    "\n",
    "url = f'http://localhost:3000/chat/sentiment/{character}'\n",
    "res = requests.get(url)\n",
    "print(res)\n",
    "res.json()"
   ]
  },
  {
   "cell_type": "markdown",
   "metadata": {},
   "source": [
    "## Compare 2 character sentiments"
   ]
  },
  {
   "cell_type": "code",
   "execution_count": 50,
   "metadata": {},
   "outputs": [
    {
     "name": "stdout",
     "output_type": "stream",
     "text": [
      "<Response [200]>\n"
     ]
    },
    {
     "data": {
      "text/plain": [
       "'Cartman has 0.1519 of negativity, 0.7641 of neutral and 0.1375 and Stan has 0.0934 of negativity, 0.769 of neutral and 0.1375 in all the episodes'"
      ]
     },
     "execution_count": 50,
     "metadata": {},
     "output_type": "execute_result"
    }
   ],
   "source": [
    "#http://localhost:3000/chat/sentiment/<name1>/<name2>\n",
    "\n",
    "character1= \"Cartman\"\n",
    "character2= \"Stan\"\n",
    "\n",
    "url = f'http://localhost:3000/chat/sentiment/{character1}/{character2}'\n",
    "res = requests.get(url)\n",
    "print(res)\n",
    "res.json()"
   ]
  },
  {
   "cell_type": "markdown",
   "metadata": {},
   "source": [
    "# Recomendations"
   ]
  },
  {
   "cell_type": "markdown",
   "metadata": {},
   "source": [
    "Find similar characters to the one you choose"
   ]
  },
  {
   "cell_type": "code",
   "execution_count": 53,
   "metadata": {},
   "outputs": [
    {
     "name": "stdout",
     "output_type": "stream",
     "text": [
      "<Response [200]>\n"
     ]
    },
    {
     "data": {
      "text/plain": [
       "'Cartman is similar to Kyle, Stan and Butters '"
      ]
     },
     "execution_count": 53,
     "metadata": {},
     "output_type": "execute_result"
    }
   ],
   "source": [
    "#http://localhost:3000/recomendation/<name>\n",
    "\n",
    "character=\"Cartman\"\n",
    "\n",
    "url = f\"http://localhost:3000/recomendation/{character}\"\n",
    "res = requests.get(url)\n",
    "print(res)\n",
    "res.json()"
   ]
  }
 ],
 "metadata": {
  "kernelspec": {
   "display_name": "Python 3",
   "language": "python",
   "name": "python3"
  },
  "language_info": {
   "codemirror_mode": {
    "name": "ipython",
    "version": 3
   },
   "file_extension": ".py",
   "mimetype": "text/x-python",
   "name": "python",
   "nbconvert_exporter": "python",
   "pygments_lexer": "ipython3",
   "version": "3.6.9"
  }
 },
 "nbformat": 4,
 "nbformat_minor": 4
}
